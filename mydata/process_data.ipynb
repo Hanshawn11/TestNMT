{
 "cells": [
  {
   "cell_type": "code",
   "execution_count": 1,
   "metadata": {},
   "outputs": [
    {
     "name": "stdout",
     "output_type": "stream",
     "text": [
      "test.txt  Untitled.ipynb\r\n"
     ]
    }
   ],
   "source": [
    "!ls"
   ]
  },
  {
   "cell_type": "code",
   "execution_count": 1,
   "metadata": {},
   "outputs": [
    {
     "data": {
      "text/plain": [
       "24697"
      ]
     },
     "execution_count": 1,
     "metadata": {},
     "output_type": "execute_result"
    }
   ],
   "source": [
    "with open('test.txt', 'r', encoding='utf-16') as f:\n",
    "    # 删除 \\t \\n number \n",
    "    data = f.readlines()\n",
    "    data = [i.strip('\\n') for i in data]\n",
    "    data = [i.replace('\\t', ' ') for i in data]\n",
    "    data = [i[:-1] for i in data]\n",
    "    data = data[1:]\n",
    "len(data)"
   ]
  },
  {
   "cell_type": "code",
   "execution_count": 2,
   "metadata": {},
   "outputs": [],
   "source": [
    "import string\n",
    "\n",
    "def data_process(data):\n",
    "    src_english = []\n",
    "    tgt_chinese = []\n",
    "    special_sent = []\n",
    "\n",
    "    for sent in data:\n",
    "        if '。' in sent:\n",
    "            eng = sent.split('。')[1]\n",
    "            zhn = sent.split('。')[0]\n",
    "            src_english.append(eng)\n",
    "            tgt_chinese.append(zhn)\n",
    "        else:\n",
    "            special_sent.append(sent)\n",
    "\n",
    "    special_sent = [i.rstrip(string.digits) for i in special_sent] \n",
    "    special_sent = [i.rstrip(string.digits) for i in special_sent] \n",
    "    special_sent = [i.rstrip(string.digits) for i in special_sent] \n",
    "    special_sent = [i.strip(' ') for i in special_sent]\n",
    "    #print(len(src_english), len(tgt_chinese), len(special_sent))\n",
    "    return src_english, tgt_chinese, special_sent"
   ]
  },
  {
   "cell_type": "code",
   "execution_count": 3,
   "metadata": {},
   "outputs": [],
   "source": [
    "eng, zhn = data_process(data)[0], data_process(data)[1]\n",
    "\n",
    "trn = int(len(eng) * 0.8)\n",
    "vn = int(len(eng) * 0.1)\n",
    "\n",
    "train_eng_mech = eng[:trn]\n",
    "train_zhn_mech = zhn[:trn]\n",
    "\n",
    "val_eng_mech = eng[trn:trn+vn]\n",
    "val_zhn_mech = zhn[trn:trn+vn]\n",
    "\n",
    "test_eng_mech = eng[trn+vn:]\n",
    "test_zhn_mech = zhn[trn+vn:]"
   ]
  },
  {
   "cell_type": "code",
   "execution_count": 17,
   "metadata": {},
   "outputs": [],
   "source": [
    "# 把句子按字分开，中文按字分，英文按单词，数字按空格\n",
    "import re\n",
    "def get_word_list(s1):\n",
    "    regEx = re.compile('[\\\\W]*')\n",
    "    res = re.compile(r\"([\\u4e00-\\u9fa5])\")    #  [\\u4e00-\\u9fa5]中文范围\n",
    "\n",
    "    p1 = regEx.split(s1.lower())\n",
    "    str1_list = []\n",
    "    for str in p1:\n",
    "        if res.split(str) == None:\n",
    "            str1_list.append(str)\n",
    "        else:\n",
    "            ret = res.split(str)\n",
    "            for ch in ret:\n",
    "                str1_list.append(ch)\n",
    "\n",
    "    list_word1 = [w for w in str1_list if len(w.strip()) > 0]  # 去掉为空的字符\n",
    "\n",
    "    return  ' '.join(list_word1)"
   ]
  },
  {
   "cell_type": "code",
   "execution_count": 16,
   "metadata": {},
   "outputs": [
    {
     "data": {
      "text/plain": [
       "\"       \\nwirte_file('train_eng_mech.txt', train_eng_mech)\\nwirte_file('train_zhn_mech.txt', train_zhn_mech)\\nwirte_file('val_eng_mech.txt', val_eng_mech)\\nwirte_file('val_zhn_mech.txt', val_zhn_mech)\\nwirte_file('test_eng_mech.txt', test_eng_mech)\\nwirte_file('test_zhn_mech.txt', test_zhn_mech)\\n\""
      ]
     },
     "execution_count": 16,
     "metadata": {},
     "output_type": "execute_result"
    }
   ],
   "source": [
    "def wirte_file(file_name, data):\n",
    "    with open(file_name, 'w', encoding='utf-8') as f:\n",
    "        for i in data:\n",
    "            f.write(i)\n",
    "            f.write('\\n')\n",
    "'''       \n",
    "wirte_file('train_eng_mech.txt', train_eng_mech)\n",
    "wirte_file('train_zhn_mech.txt', train_zhn_mech)\n",
    "wirte_file('val_eng_mech.txt', val_eng_mech)\n",
    "wirte_file('val_zhn_mech.txt', val_zhn_mech)\n",
    "wirte_file('test_eng_mech.txt', test_eng_mech)\n",
    "wirte_file('test_zhn_mech.txt', test_zhn_mech)\n",
    "'''"
   ]
  },
  {
   "cell_type": "code",
   "execution_count": 1,
   "metadata": {},
   "outputs": [
    {
     "name": "stdout",
     "output_type": "stream",
     "text": [
      "pred_test.txt\t    test_eng_mech.txt  train_eng_mech.txt  val_zhn_mech.txt\r\n",
      "process_data.ipynb  test.txt\t       train_zhn_mech.txt\r\n",
      "run\t\t    test_zhn_mech.txt  val_eng_mech.txt\r\n"
     ]
    }
   ],
   "source": [
    "!ls"
   ]
  },
  {
   "cell_type": "code",
   "execution_count": 20,
   "metadata": {},
   "outputs": [],
   "source": [
    "def rewrite(file):\n",
    "    with open(file, 'r') as f:\n",
    "        data = f.readlines()\n",
    "        data = [i.strip('\\n') for i in data]\n",
    "\n",
    "    data = [get_word_list(i) for i in data]\n",
    "    wirte_file(file, data)"
   ]
  },
  {
   "cell_type": "code",
   "execution_count": 21,
   "metadata": {},
   "outputs": [
    {
     "name": "stderr",
     "output_type": "stream",
     "text": [
      "/usr/lib/python3/dist-packages/ipykernel_launcher.py:7: FutureWarning: split() requires a non-empty pattern match.\n",
      "  import sys\n"
     ]
    }
   ],
   "source": [
    "rewrite('train_zhn_mech.txt')\n",
    "rewrite('val_zhn_mech.txt')\n",
    "rewrite('test_zhn_mech.txt')"
   ]
  },
  {
   "cell_type": "code",
   "execution_count": 44,
   "metadata": {},
   "outputs": [
    {
     "name": "stdout",
     "output_type": "stream",
     "text": [
      " \n",
      "Check for fuel supply lines that are restricted. \n",
      "--------------------------------\n",
      "检 查 供 油 管 路 有 无 阻 塞\n",
      " \n",
      "Replace the in-line fuel filter that is installed upstream of the Electric Priming Pump (EPP). \n",
      "--------------------------------\n",
      "更 换 安 装 在 电 动 输 油 泵 epp 上 游 的 直 列 式 燃 油 滤 清 器\n",
      " \n",
      "Replace the primary fuel filter. \n",
      "--------------------------------\n",
      "更 换 燃 油 粗 滤 器\n",
      " \n",
      "Replace the secondary fuel filter (if equipped). \n",
      "--------------------------------\n",
      "更 换 燃 油 细 滤 器 如 有 配 备\n",
      " \n",
      "Refer to Systems Operation, Testing, and AdjustingAir in Fuel - Test. \n",
      "--------------------------------\n",
      "请 参 阅 系 统 操 作 测 试 与 调 整 燃 油 混 入 空 气 测 试\n",
      " \n",
      "Result: There is a leak from a high-pressure fuel line. \n",
      "--------------------------------\n",
      "结 果 高 压 燃 油 管 路 存 在 泄 漏\n",
      " \n",
      "Replace the high-pressure fuel line. \n",
      "--------------------------------\n",
      "更 换 高 压 燃 油 管 路\n",
      " \n",
      "Replace the high-pressure fuel pump. \n",
      "--------------------------------\n",
      "更 换 高 压 燃 油 泵\n",
      " \n",
      "Replace the High-Pressure Fuel Pump. \n",
      "--------------------------------\n",
      "更 换 高 压 燃 油 泵\n",
      " \n",
      "Repair or replace the high-pressure fuel line that is leaking. \n",
      "--------------------------------\n",
      "修 理 或 更 换 泄 漏 的 高 压 燃 油 管\n"
     ]
    }
   ],
   "source": [
    "with open('val_eng_mech.txt', 'r') as f:\n",
    "    data = f.readlines()\n",
    "    data = [i.strip('\\n') for i in data]\n",
    "    data = [i.strip(' ') for i in data]\n",
    "    data = [i[:-4] for i in data]\n",
    "    \n",
    "with open('val_zhn_mech.txt', 'r') as f:\n",
    "    zhn_data = f.readlines()\n",
    "    zhn_data = [i.strip('\\n') for i in zhn_data]\n",
    "    \n",
    "    \n",
    "for i in range(10):\n",
    "    print(' ')\n",
    "    print(data[i])\n",
    "    print('--------------------------------')\n",
    "    print(zhn_data[i])\n",
    "    \n",
    "#wirte_file('val_eng_mech.txt', data)"
   ]
  },
  {
   "cell_type": "code",
   "execution_count": 2,
   "metadata": {},
   "outputs": [
    {
     "name": "stdout",
     "output_type": "stream",
     "text": [
      "pred_15000_new.txt\t run\t\t     train_zhn_mech.txt\r\n",
      "pred_15000_new.txtn\t test_eng_mech.txt   val_eng_mech.txt\r\n",
      "pred_15000_new.txtn-gpu  test.txt\t     val_zhn_mech.txt\r\n",
      "pred_15000.txt\t\t test_zhn_mech.txt\r\n",
      "process_data.ipynb\t train_eng_mech.txt\r\n"
     ]
    }
   ],
   "source": [
    "!ls"
   ]
  },
  {
   "cell_type": "code",
   "execution_count": 4,
   "metadata": {},
   "outputs": [
    {
     "data": {
      "text/plain": [
       "6"
      ]
     },
     "execution_count": 4,
     "metadata": {},
     "output_type": "execute_result"
    }
   ],
   "source": [
    "with open('pred_15000_new.txt', 'r') as  f:\n",
    "    tgt_data = f.readlines()\n",
    "    tgt_data = [i.strip('\\n') for i in tgt_data]\n",
    "with open('test_eng_mech.txt', 'r') as f:\n",
    "    src_data = f.readlines()\n",
    "    src_data = [i.strip('\\n') for i in src_data]\n",
    "len(src_data)"
   ]
  },
  {
   "cell_type": "code",
   "execution_count": 5,
   "metadata": {},
   "outputs": [
    {
     "name": "stdout",
     "output_type": "stream",
     "text": [
      " \n",
      "source eng:  Ensure that the work tool is compatible with the complete machine.\n",
      "---------------------------\n",
      "nmt output:  确保 作业 机具 应 与 主机 匹配\n",
      " \n",
      "source eng:  A powerful percussion hammer fitted to a machine and powered by an auxiliary hydraulic circuit for demolishing concrete or rocks.\n",
      "---------------------------\n",
      "nmt output:  装配 到 机器 上 的 强力 冲击 锤 ， 以 辅助 液压 回路 为 动力 、 液压 回路 或 岩石\n",
      " \n",
      "source eng:  Failure to do so will result in damage to the host machine.\n",
      "---------------------------\n",
      "nmt output:  如 未能 将 导致 主机 损坏\n",
      " \n",
      "source eng:  However, failures that result from the installation of other manufacturers devices, and consumables are NOT Perkins defects.\n",
      "---------------------------\n",
      "nmt output:  但是 ， 安装 和 使用 其他 制造商 的 设备 、 附件 和 消耗品 而 导致 的 故障\n",
      " \n",
      "source eng:  The numbers for electronic engines are stored within the flash file.\n",
      "---------------------------\n",
      "nmt output:  这些 位置 存储 在 闪存 文件 中\n",
      " \n",
      "source eng:  We recommend that model-specific cradles are used to transport engines.\n",
      "---------------------------\n",
      "nmt output:  可 使用 特定 型号 的 托架 来 存储 发动机\n"
     ]
    }
   ],
   "source": [
    "for i in range(6):\n",
    "    print(' ')\n",
    "    print('source eng: ', src_data[i])\n",
    "    print('---------------------------')\n",
    "    print('nmt output: ', tgt_data[i])"
   ]
  }
 ],
 "metadata": {
  "kernelspec": {
   "display_name": "Python 3",
   "language": "python",
   "name": "python3"
  },
  "language_info": {
   "codemirror_mode": {
    "name": "ipython",
    "version": 3
   },
   "file_extension": ".py",
   "mimetype": "text/x-python",
   "name": "python",
   "nbconvert_exporter": "python",
   "pygments_lexer": "ipython3",
   "version": "3.6.9"
  }
 },
 "nbformat": 4,
 "nbformat_minor": 2
}
